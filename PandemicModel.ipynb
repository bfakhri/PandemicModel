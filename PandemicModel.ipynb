{
 "cells": [
  {
   "cell_type": "markdown",
   "metadata": {},
   "source": [
    "# Import Libraries and Set Compute Params"
   ]
  },
  {
   "cell_type": "code",
   "execution_count": 3,
   "metadata": {},
   "outputs": [],
   "source": [
    "import numpy as np\n",
    "import matplotlib.pyplot as plt\n",
    "import tensorflow as tf\n",
    "\n",
    "# Tensorflow Hack to get it to work with RTX cards\n",
    "physical_devices = tf.config.experimental.list_physical_devices('GPU')\n",
    "assert len(physical_devices) > 0, \"Not enough GPU hardware devices available\"\n",
    "tf.config.experimental.set_memory_growth(physical_devices[0], True)\n",
    "\n",
    "# GPU Precision\n",
    "T_TYPE = tf.float16"
   ]
  },
  {
   "cell_type": "markdown",
   "metadata": {},
   "source": [
    "# Simulate Virus Spread"
   ]
  },
  {
   "cell_type": "code",
   "execution_count": 25,
   "metadata": {},
   "outputs": [
    {
     "data": {
      "image/png": "[encoded data removed]",
      "text/plain": [
       "<Figure size 432x288 with 1 Axes>"
      ]
     },
     "metadata": {
      "needs_background": "light"
     },
     "output_type": "display_data"
    }
   ],
   "source": [
    "# Instantiate the population characteristics\n",
    "\n",
    "# Number of people considered\n",
    "pop = 14000\n",
    "\n",
    "def bust(dist, max_val):\n",
    "    '''\n",
    "    Takes a probability distribution and sets any values \n",
    "    larger than max_val to zero\n",
    "    '''\n",
    "    busted = dist > max_val\n",
    "    dist = dist*(1.0 - tf.cast(busted, dtype=T_TYPE))\n",
    "    return dist\n",
    "    \n",
    "\n",
    "dist = bust(tf.random.gamma((pop, pop), alpha=0.15, beta=2, dtype=T_TYPE), max_val=1)\n",
    "\n",
    "# Plot the distribution\n",
    "plt.hist(dist.numpy()[0, :], bins=100)\n",
    "plt.xlabel('Affinity')\n",
    "plt.ylabel('Density')\n",
    "plt.title('Distribution of Population Connectivity')\n",
    "\n",
    "\n",
    "# Transmission probabilities (you cannot infect yourself)\n",
    "I = tf.eye(pop, pop, dtype=T_TYPE)\n",
    "# Affinity matrix (how close people are to each other)\n",
    "A = dist*(1-I) "
   ]
  },
  {
   "cell_type": "code",
   "execution_count": 33,
   "metadata": {},
   "outputs": [
    {
     "name": "stdout",
     "output_type": "stream",
     "text": [
      "Calculating 0.0%\n",
      "Calculating 20.0%\n",
      "Calculating 40.0%\n",
      "Calculating 60.0%\n",
      "Calculating 80.0%\n"
     ]
    }
   ],
   "source": [
    "# All individuals have \n",
    "vec_days_infected = tf.zeros((pop))\n",
    "\n",
    "# Someone is infectious if they have been infected for > 2 days and < 12 days\n",
    "period_incubation = 2\n",
    "#period_infectious = 9\n",
    "period_infectious = 12\n",
    "#period_infectious = 20\n",
    "\n",
    "# Simulation Parameters\n",
    "num_days = 365\n",
    "init_infected_prop = 0.001\n",
    "trans_thresh = 0.85\n",
    "\n",
    "# Reporting params (report every 20% finished)\n",
    "report_proportion = 0.2\n",
    "\n",
    "# Start off by having people be infected\n",
    "init_infected = np.zeros((pop))\n",
    "init_infected[:int(init_infected_prop*pop)] = 1\n",
    "vec_days_infected += init_infected\n",
    "\n",
    "# Here we store variables to graph\n",
    "graph_num_infectious = []\n",
    "graph_num_susceptible = []\n",
    "graph_num_recovered = []\n",
    "graph_num_newinfections = []\n",
    "\n",
    "for day in range(num_days):\n",
    "    # Report how far we are\n",
    "    if(day % int(report_proportion*num_days) == 0):\n",
    "        print('Calculating {0}%'.format(day/num_days*100))\n",
    "    # Find out who is now infectious\n",
    "    vec_infectious = tf.cast(tf.logical_and(vec_days_infected > period_incubation, vec_days_infected < period_infectious), dtype=T_TYPE)\n",
    "    # Increment days infected counter\n",
    "    vec_days_infected += tf.clip_by_value(vec_days_infected, 0, 1)\n",
    "    # Find out who is susceptible (not yet had the virus)\n",
    "    vec_susceptible = tf.cast(vec_days_infected < 1, dtype=T_TYPE)\n",
    "    # Find out who has recovered\n",
    "    vec_recovered = tf.cast(vec_days_infected > period_infectious, T_TYPE)\n",
    "    \n",
    "    # Get randomness\n",
    "    rand = tf.random.uniform(A.shape, dtype=T_TYPE)\n",
    "    # Multiply by the affinity matrix to get transmission probabilities\n",
    "    trans_probs = rand*A\n",
    "    \n",
    "    # Find out who has transmitted \n",
    "    trans_mat = tf.cast(trans_probs > trans_thresh, dtype=T_TYPE)\n",
    "    # If person A is infectious, person B is susceptible, AND their is a transmitive contact, B is now infected\n",
    "    who_infected_who = vec_infectious[:, tf.newaxis]*vec_susceptible[tf.newaxis, :]*trans_mat\n",
    "    \n",
    "    # Reduce because we just care about who got infected (and how many times lol)\n",
    "    transmitees = tf.reduce_sum(who_infected_who, axis=0)\n",
    "    # Count how many people a certain person infected \n",
    "    transmissions = tf.reduce_sum(who_infected_who, axis=1)\n",
    "    \n",
    "    # Actually infect people \n",
    "    newly_infected = tf.cast(tf.logical_and(tf.logical_not(tf.cast(vec_days_infected, dtype=tf.bool)), tf.cast(transmitees, tf.bool)), tf.float32)\n",
    "    vec_days_infected += newly_infected\n",
    "    \n",
    "    # Add today's infections \n",
    "    #print(day, vec_infected)\n",
    "    \n",
    "    # Record results\n",
    "    graph_num_newinfections.append(tf.reduce_sum(newly_infected).numpy())\n",
    "    graph_num_infectious.append(tf.reduce_sum(vec_infectious).numpy())\n",
    "    graph_num_susceptible.append(tf.reduce_sum(vec_susceptible).numpy())\n",
    "    graph_num_recovered.append(tf.reduce_sum(vec_recovered).numpy())"
   ]
  },
  {
   "cell_type": "markdown",
   "metadata": {},
   "source": [
    "# Plot the Results"
   ]
  },
  {
   "cell_type": "code",
   "execution_count": 34,
   "metadata": {},
   "outputs": [
    {
     "data": {
      "text/plain": [
       "Text(0.5, 1.0, 'Infections Over Time')"
      ]
     },
     "execution_count": 34,
     "metadata": {},
     "output_type": "execute_result"
    },
    {
     "data": {
      "image/png": "[encoded data removed]",
      "text/plain": [
       "<Figure size 432x288 with 1 Axes>"
      ]
     },
     "metadata": {
      "needs_background": "light"
     },
     "output_type": "display_data"
    }
   ],
   "source": [
    "plot_dict = {'New Cases': graph_num_newinfections, \n",
    "            'Infectious': graph_num_infectious, \n",
    "            'Susceptible': graph_num_susceptible,\n",
    "            'Recovered': graph_num_recovered}\n",
    "for key in plot_dict:\n",
    "    y_values = np.array(plot_dict[key])\n",
    "    #plt.plot(np.arange(num_days), y_values/np.max(y_values))\n",
    "    plt.plot(np.arange(num_days), y_values)\n",
    "\n",
    "plt.legend(plot_dict.keys())\n",
    "plt.xlabel('Time (Days)')\n",
    "plt.ylabel('People')\n",
    "plt.title('Infections Over Time')\n"
   ]
  },
  {
   "cell_type": "code",
   "execution_count": 38,
   "metadata": {
    "scrolled": true
   },
   "outputs": [
    {
     "data": {
      "text/plain": [
       "5102.040816326531"
      ]
     },
     "execution_count": 38,
     "metadata": {},
     "output_type": "execute_result"
    }
   ],
   "source": [
    "(1000000**2)/(14000**2)"
   ]
  },
  {
   "cell_type": "code",
   "execution_count": 43,
   "metadata": {},
   "outputs": [
    {
     "ename": "MemoryError",
     "evalue": "Unable to allocate 99.7 PiB for an array with shape (335000000, 335000000) and data type int8",
     "output_type": "error",
     "traceback": [
      "\u001b[0;31m---------------------------------------------------------------------------\u001b[0m",
      "\u001b[0;31mMemoryError\u001b[0m                               Traceback (most recent call last)",
      "\u001b[0;32m<ipython-input-43-58a597631c49>\u001b[0m in \u001b[0;36m<module>\u001b[0;34m\u001b[0m\n\u001b[1;32m      1\u001b[0m \u001b[0mpop\u001b[0m \u001b[0;34m=\u001b[0m \u001b[0;36m335000000\u001b[0m\u001b[0;34m\u001b[0m\u001b[0;34m\u001b[0m\u001b[0m\n\u001b[0;32m----> 2\u001b[0;31m \u001b[0mnp\u001b[0m\u001b[0;34m.\u001b[0m\u001b[0mzeros\u001b[0m\u001b[0;34m(\u001b[0m\u001b[0;34m(\u001b[0m\u001b[0mpop\u001b[0m\u001b[0;34m,\u001b[0m \u001b[0mpop\u001b[0m\u001b[0;34m)\u001b[0m\u001b[0;34m,\u001b[0m \u001b[0mdtype\u001b[0m\u001b[0;34m=\u001b[0m\u001b[0mnp\u001b[0m\u001b[0;34m.\u001b[0m\u001b[0mint8\u001b[0m\u001b[0;34m)\u001b[0m\u001b[0;34m\u001b[0m\u001b[0;34m\u001b[0m\u001b[0m\n\u001b[0m",
      "\u001b[0;31mMemoryError\u001b[0m: Unable to allocate 99.7 PiB for an array with shape (335000000, 335000000) and data type int8"
     ]
    }
   ],
   "source": [
    "pop = 335000000\n",
    "np.zeros((pop, pop), dtype=np.int8)"
   ]
  },
  {
   "cell_type": "code",
   "execution_count": null,
   "metadata": {},
   "outputs": [],
   "source": []
  },
  {
   "cell_type": "code",
   "execution_count": null,
   "metadata": {},
   "outputs": [],
   "source": []
  }
 ],
 "metadata": {
  "kernelspec": {
   "display_name": "Python 3",
   "language": "python",
   "name": "python3"
  },
  "language_info": {
   "codemirror_mode": {
    "name": "ipython",
    "version": 3
   },
   "file_extension": ".py",
   "mimetype": "text/x-python",
   "name": "python",
   "nbconvert_exporter": "python",
   "pygments_lexer": "ipython3",
   "version": "3.8.5"
  }
 },
 "nbformat": 4,
 "nbformat_minor": 4
}
